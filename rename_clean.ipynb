{
 "cells": [
  {
   "cell_type": "code",
   "execution_count": 3,
   "metadata": {},
   "outputs": [],
   "source": [
    "import pandas as pd\n",
    "import numpy as np\n",
    "import matplotlib.pyplot as plt\n",
    "import openpyxl\n",
    "import os"
   ]
  },
  {
   "cell_type": "code",
   "execution_count": 2,
   "metadata": {},
   "outputs": [],
   "source": [
    "path = \"/Users/hubertcheung/Library/CloudStorage/OneDrive-TheUniversityofHongKong-Connect/Research/高考招生数据\"\n",
    "\n",
    "path1 = path + \"/22全国08到22高考数据\"\n",
    "\n",
    "wd = \"/Users/hubertcheung/Downloads/gaokao\"\n",
    "output_dir = wd + \"/cleaned\"\n"
   ]
  },
  {
   "cell_type": "markdown",
   "metadata": {},
   "source": [
    "### 上海"
   ]
  },
  {
   "cell_type": "code",
   "execution_count": 6,
   "metadata": {},
   "outputs": [
    {
     "name": "stdout",
     "output_type": "stream",
     "text": [
      "已导出 2016 年数据到 /Users/hubertcheung/Downloads/gaokao/cleaned/shanghai_2016.xlsx\n",
      "已导出 2017 年数据到 /Users/hubertcheung/Downloads/gaokao/cleaned/shanghai_2017.xlsx\n",
      "已导出 2018 年数据到 /Users/hubertcheung/Downloads/gaokao/cleaned/shanghai_2018.xlsx\n",
      "已导出 2019 年数据到 /Users/hubertcheung/Downloads/gaokao/cleaned/shanghai_2019.xlsx\n",
      "已导出 2020 年数据到 /Users/hubertcheung/Downloads/gaokao/cleaned/shanghai_2020.xlsx\n",
      "所有工作表导出完成\n"
     ]
    }
   ],
   "source": [
    "shanghai = path1 + \"/22上海\"\n",
    "# 设置输入文件路径\n",
    "input_file = shanghai + \"/上海16-20.xlsx\"\n",
    "\n",
    "\n",
    "# 读取Excel文件\n",
    "xl = pd.ExcelFile(input_file)\n",
    "\n",
    "# 遍历2016到2020年的工作表\n",
    "for year in range(2016, 2021):\n",
    "    sheet_name = str(year)\n",
    "    if sheet_name in xl.sheet_names:\n",
    "        # 读取工作表\n",
    "        df = xl.parse(sheet_name)\n",
    "        \n",
    "        # 设置输出文件名\n",
    "        output_file = os.path.join(output_dir, f\"shanghai_{year}.xlsx\")\n",
    "        \n",
    "        # 将数据框保存为xlsx文件\n",
    "        df.to_excel(output_file, index=False)\n",
    "        print(f\"已导出 {year} 年数据到 {output_file}\")\n",
    "    else:\n",
    "        print(f\"未找到 {year} 年的工作表\")\n",
    "\n",
    "print(\"所有工作表导出完成\")\n",
    "\n",
    "xl = pd.ExcelFile(shanghai + \"/上海-2021-专业分数.xlsx\")\n",
    "df = xl.parse()\n",
    "df.to_excel(output_dir + \"/shanghai_2021.xlsx\")\n",
    "\n",
    "xl = pd.ExcelFile(shanghai + \"/上海-2022-专业录取分数data1228.xlsx\")\n",
    "df = xl.parse()\n",
    "df.to_excel(output_dir + \"/shanghai_2022.xlsx\")\n",
    "\n",
    "# # 创建一个空列表来存储所有年份的数据框\n",
    "# all_dfs = []\n",
    "\n",
    "# # 遍历2016到2020年的工作表\n",
    "# for year in range(2016, 2021):\n",
    "#     sheet_name = str(year)\n",
    "#     if sheet_name in xl.sheet_names:\n",
    "#         # 读取工作表\n",
    "#         df = xl.parse(sheet_name)\n",
    "        \n",
    "#         # 添加年份列\n",
    "#         df['年份'] = year\n",
    "        \n",
    "#         # 将数据框添加到列表中\n",
    "#         all_dfs.append(df)\n",
    "#     else:\n",
    "#         print(f\"未找到 {year} 年的工作表\")\n",
    "\n",
    "# # 合并所有数据框\n",
    "# combined_df = pd.concat(all_dfs, ignore_index=True)\n",
    "\n",
    "# # 确保所有变量一致\n",
    "# combined_df = combined_df.reindex(columns=combined_df.columns.union(all_dfs[0].columns))\n",
    "\n",
    "# # 设置输出文件名\n",
    "# output_file = os.path.join(output_dir, \"shanghai_2016_2020_combined.xlsx\")\n",
    "\n",
    "# # 将合并后的数据框保存为xlsx文件\n",
    "# combined_df.to_excel(output_file, index=False)\n",
    "# print(f\"已导出合并后的2016-2020年数据到 {output_file}\")\n",
    "\n",
    "# print(\"数据合并和导出完成\")"
   ]
  },
  {
   "cell_type": "markdown",
   "metadata": {},
   "source": [
    "### 云南"
   ]
  },
  {
   "cell_type": "code",
   "execution_count": 5,
   "metadata": {},
   "outputs": [
    {
     "name": "stdout",
     "output_type": "stream",
     "text": [
      "已导出云南 2016 年专业分数数据到 /Users/hubertcheung/Downloads/gaokao/cleaned/yunnan_2016.xlsx\n",
      "已导出云南 2017 年专业分数数据到 /Users/hubertcheung/Downloads/gaokao/cleaned/yunnan_2017.xlsx\n",
      "已导出云南 2018 年专业分数数据到 /Users/hubertcheung/Downloads/gaokao/cleaned/yunnan_2018.xlsx\n",
      "已导出云南 2019 年专业分数数据到 /Users/hubertcheung/Downloads/gaokao/cleaned/yunnan_2019.xlsx\n",
      "已导出云南 2020 年专业分数数据到 /Users/hubertcheung/Downloads/gaokao/cleaned/yunnan_2020.xlsx\n",
      "云南数据处理完成\n"
     ]
    }
   ],
   "source": [
    "# 云南数据处理\n",
    "yunnan = path1 + \"/22云南\"\n",
    "\n",
    "# 遍历2016到2020年的文件\n",
    "for year in range(2016, 2021):\n",
    "    input_file = os.path.join(yunnan, f\"Y云南{year}.xlsx\")\n",
    "    \n",
    "    if os.path.exists(input_file):\n",
    "        # 读取Excel文件\n",
    "        xl = pd.ExcelFile(input_file)\n",
    "        \n",
    "        if \"专业分数\" in xl.sheet_names:\n",
    "            # 读取\"专业分数\"工作表\n",
    "            df = xl.parse(\"专业分数\")\n",
    "            \n",
    "            # 设置输出文件名\n",
    "            output_file = os.path.join(output_dir, f\"yunnan_{year}.xlsx\")\n",
    "            \n",
    "            # 将数据框保存为xlsx文件\n",
    "            df.to_excel(output_file, index=False)\n",
    "            print(f\"已导出云南 {year} 年专业分数数据到 {output_file}\")\n",
    "        else:\n",
    "            print(f\"在云南 {year} 年的文件中未找到'专业分数'工作表\")\n",
    "    else:\n",
    "        print(f\"未找到云南 {year} 年的文件\")\n",
    "\n",
    "xl = pd.ExcelFile(yunnan + \"/云南-2021-专业分数.xlsx\")\n",
    "df = xl.parse()\n",
    "df.to_excel(output_dir + \"/yunnan_2021.xlsx\")\n",
    "\n",
    "xl = pd.ExcelFile(yunnan + \"/云南2022专业分数据.xlsx\")\n",
    "df = xl.parse()\n",
    "df.to_excel(output_dir + \"/yunnan_2022.xlsx\")\n",
    "\n",
    "print(\"云南数据处理完成\")"
   ]
  },
  {
   "cell_type": "markdown",
   "metadata": {},
   "source": [
    "### 内蒙古"
   ]
  },
  {
   "cell_type": "code",
   "execution_count": 7,
   "metadata": {},
   "outputs": [
    {
     "name": "stdout",
     "output_type": "stream",
     "text": [
      "已导出内蒙古 2016 年专业分数数据到 /Users/hubertcheung/Downloads/gaokao/cleaned/neimenggu_2016.xlsx\n",
      "已导出内蒙古 2017 年专业分数数据到 /Users/hubertcheung/Downloads/gaokao/cleaned/neimenggu_2017.xlsx\n",
      "已导出内蒙古 2018 年专业分数数据到 /Users/hubertcheung/Downloads/gaokao/cleaned/neimenggu_2018.xlsx\n",
      "已导出内蒙古 2019 年专业分数数据到 /Users/hubertcheung/Downloads/gaokao/cleaned/neimenggu_2019.xlsx\n",
      "已导出内蒙古 2020 年专业分数数据到 /Users/hubertcheung/Downloads/gaokao/cleaned/neimenggu_2020.xlsx\n",
      "内蒙古数据处理完成\n"
     ]
    }
   ],
   "source": [
    "# 内蒙古数据处理\n",
    "neimenggu = path1 + \"/22内蒙古\"\n",
    "\n",
    "# 遍历2016到2020年的文件\n",
    "for year in range(2016, 2021):\n",
    "    input_file = os.path.join(neimenggu, f\"N内蒙古{year}.xlsx\")\n",
    "    \n",
    "    if os.path.exists(input_file):\n",
    "        # 读取Excel文件\n",
    "        xl = pd.ExcelFile(input_file)\n",
    "        \n",
    "        if \"专业分数\" in xl.sheet_names:\n",
    "            # 读取\"专业分数\"工作表\n",
    "            df = xl.parse(\"专业分数\")\n",
    "            \n",
    "            # 设置输出文件名\n",
    "            output_file = os.path.join(output_dir, f\"neimenggu_{year}.xlsx\")\n",
    "            \n",
    "            # 将数据框保存为xlsx文件\n",
    "            df.to_excel(output_file, index=False)\n",
    "            print(f\"已导出内蒙古 {year} 年专业分数数据到 {output_file}\")\n",
    "        else:\n",
    "            print(f\"在内蒙古 {year} 年的文件中未找到'专业分数'工作表\")\n",
    "    else:\n",
    "        print(f\"未找到内蒙古 {year} 年的文件\")\n",
    "\n",
    "print(\"内蒙古数据处理完成\")\n",
    "\n",
    "xl = pd.ExcelFile(neimenggu + \"/内蒙古-2021-专业分数.xlsx\")\n",
    "df = xl.parse()\n",
    "df.to_excel(output_dir + \"/neimenggu_2021.xlsx\")\n",
    "\n",
    "xl = pd.ExcelFile(neimenggu + \"/内蒙古-2022-专业分数08181.xlsx\")\n",
    "df = xl.parse()\n",
    "df.to_excel(output_dir + \"/neimenggu_2022.xlsx\")\n"
   ]
  },
  {
   "cell_type": "markdown",
   "metadata": {},
   "source": [
    "### 北京"
   ]
  },
  {
   "cell_type": "code",
   "execution_count": 22,
   "metadata": {},
   "outputs": [
    {
     "name": "stdout",
     "output_type": "stream",
     "text": [
      "已导出北京 2016 年专业分数数据到 /Users/hubertcheung/Downloads/gaokao/cleaned/beijing_2016.xlsx\n",
      "已导出北京 2017 年专业分数数据到 /Users/hubertcheung/Downloads/gaokao/cleaned/beijing_2017.xlsx\n",
      "已导出北京 2018 年专业分数数据到 /Users/hubertcheung/Downloads/gaokao/cleaned/beijing_2018.xlsx\n",
      "已导出北京 2019 年专业分数数据到 /Users/hubertcheung/Downloads/gaokao/cleaned/beijing_2019.xlsx\n",
      "已导出北京 2020 年专业分数数据到 /Users/hubertcheung/Downloads/gaokao/cleaned/beijing_2020.xlsx\n",
      "已导出北京 2021 年专业分数数据到 /Users/hubertcheung/Downloads/gaokao/cleaned/beijing_2021.xlsx\n",
      "已导出北京 2022 年专业分数数据到 /Users/hubertcheung/Downloads/gaokao/cleaned/beijing_2022.xlsx\n",
      "北京所有年份数据处理完成\n"
     ]
    }
   ],
   "source": [
    "### 北京\n",
    "\n",
    "# 北京数据处理\n",
    "beijing = path1 + \"/22北京\"\n",
    "\n",
    "# 遍历2016到2022年的文件\n",
    "for year in range(2016, 2023):\n",
    "    input_file = os.path.join(beijing, f\"北京_{year}.xlsx\")\n",
    "    \n",
    "    if os.path.exists(input_file):\n",
    "        # 读取Excel文件\n",
    "        xl = pd.ExcelFile(input_file)\n",
    "        \n",
    "        if \"专业分数\" in xl.sheet_names:\n",
    "            # 读取\"专业分数\"工作表\n",
    "            df = xl.parse(\"专业分数\")\n",
    "            \n",
    "            # 设置输出文件名\n",
    "            output_file = os.path.join(output_dir, f\"beijing_{year}.xlsx\")\n",
    "            \n",
    "            # 将数据框保存为xlsx文件\n",
    "            df.to_excel(output_file, index=False)\n",
    "            print(f\"已导出北京 {year} 年专业分数数据到 {output_file}\")\n",
    "        else:\n",
    "            # 如果没有\"专业分数\"工作表，则读取默认工作表\n",
    "            df = xl.parse()\n",
    "            \n",
    "            # 设置输出文件名\n",
    "            output_file = os.path.join(output_dir, f\"beijing_{year}.xlsx\")\n",
    "            \n",
    "            # 将数据框保存为xlsx文件\n",
    "            df.to_excel(output_file, index=False)\n",
    "            print(f\"已导出北京 {year} 年专业分数数据到 {output_file}\")\n",
    "    else:\n",
    "        print(f\"未找到北京 {year} 年的文件\")\n",
    "\n",
    "print(\"北京所有年份数据处理完成\")"
   ]
  },
  {
   "cell_type": "markdown",
   "metadata": {},
   "source": [
    "### 吉林"
   ]
  },
  {
   "cell_type": "code",
   "execution_count": 14,
   "metadata": {},
   "outputs": [
    {
     "name": "stderr",
     "output_type": "stream",
     "text": [
      "Exception ignored in: <function ZipFile.__del__ at 0x1038655a0>\n",
      "Traceback (most recent call last):\n",
      "  File \"/Users/hubertcheung/anaconda3/lib/python3.10/zipfile.py\", line 1819, in __del__\n",
      "    self.close()\n",
      "  File \"/Users/hubertcheung/anaconda3/lib/python3.10/zipfile.py\", line 1836, in close\n",
      "    self.fp.seek(self.start_dir)\n",
      "ValueError: seek of closed file\n"
     ]
    },
    {
     "name": "stdout",
     "output_type": "stream",
     "text": [
      "已导出吉林 2016 年专业分数数据到 /Users/hubertcheung/Downloads/gaokao/cleaned/jilin_2016.xlsx\n",
      "已导出吉林 2017 年专业分数数据到 /Users/hubertcheung/Downloads/gaokao/cleaned/jilin_2017.xlsx\n",
      "已导出吉林 2018 年专业分数数据到 /Users/hubertcheung/Downloads/gaokao/cleaned/jilin_2018.xlsx\n",
      "已导出吉林 2019 年专业分数数据到 /Users/hubertcheung/Downloads/gaokao/cleaned/jilin_2019.xlsx\n",
      "已导出吉林 2020 年专业分数数据到 /Users/hubertcheung/Downloads/gaokao/cleaned/jilin_2020.xlsx\n",
      "吉林数据处理完成\n"
     ]
    }
   ],
   "source": [
    "jilin = path1 + \"/22吉林\"\n",
    "\n",
    "# 遍历2016到2020年的文件\n",
    "for year in range(2016, 2021):\n",
    "    input_file = os.path.join(jilin, f\"J吉林{year}.xlsx\")\n",
    "    \n",
    "    if os.path.exists(input_file):\n",
    "        # 读取Excel文件\n",
    "        xl = pd.ExcelFile(input_file)\n",
    "        \n",
    "        if \"专业分数\" in xl.sheet_names:\n",
    "            # 读取\"专业分数\"工作表\n",
    "            df = xl.parse(\"专业分数\")\n",
    "            \n",
    "            # 设置输出文件名\n",
    "            output_file = os.path.join(output_dir, f\"jilin_{year}.xlsx\")\n",
    "            \n",
    "            # 将数据框保存为xlsx文件\n",
    "            df.to_excel(output_file, index=False)\n",
    "            print(f\"已导出吉林 {year} 年专业分数数据到 {output_file}\")\n",
    "        else:\n",
    "            print(f\"在吉林 {year} 年的文件中未找到'专业分数'工作表\")\n",
    "    else:\n",
    "        print(f\"未找到吉林 {year} 年的文件\")\n",
    "\n",
    "print(\"吉林数据处理完成\")\n",
    "\n",
    "xl = pd.ExcelFile(jilin + \"/吉林-21-专业数据（含最高分平均分）.xlsx\")\n",
    "df = xl.parse()  # 假设2021年的数据在第一个工作表\n",
    "df.to_excel(output_dir + \"/jilin_2021.xlsx\", index=False)\n",
    "\n",
    "xl = pd.ExcelFile(jilin + \"/吉林-2022-专业分数(匹配代码）.xlsx\")\n",
    "df = xl.parse()  # 假设2022年的数据在第一个工作表\n",
    "df.to_excel(output_dir + \"/jilin_2022.xlsx\", index=False)"
   ]
  },
  {
   "cell_type": "markdown",
   "metadata": {},
   "source": [
    "### 四川"
   ]
  },
  {
   "cell_type": "code",
   "execution_count": 16,
   "metadata": {},
   "outputs": [
    {
     "name": "stdout",
     "output_type": "stream",
     "text": [
      "已导出四川 2016 年专业分数数据到 /Users/hubertcheung/Downloads/gaokao/cleaned/sichuan_2016.xlsx\n",
      "已导出四川 2017 年专业分数数据到 /Users/hubertcheung/Downloads/gaokao/cleaned/sichuan_2017.xlsx\n",
      "已导出四川 2018 年专业分数数据到 /Users/hubertcheung/Downloads/gaokao/cleaned/sichuan_2018.xlsx\n",
      "已导出四川 2019 年专业分数数据到 /Users/hubertcheung/Downloads/gaokao/cleaned/sichuan_2019.xlsx\n",
      "已导出四川 2020 年专业数据到 /Users/hubertcheung/Downloads/gaokao/cleaned/sichuan_2020.xlsx\n",
      "四川数据处理完成\n"
     ]
    }
   ],
   "source": [
    "sichuan = path1 + \"/22四川\"\n",
    "\n",
    "# 遍历2016到2020年的文件\n",
    "for year in range(2016, 2021):\n",
    "    input_file = os.path.join(sichuan, f\"S四川{year}.xlsx\")\n",
    "    \n",
    "    if os.path.exists(input_file):\n",
    "        # 读取Excel文件\n",
    "        xl = pd.ExcelFile(input_file)\n",
    "        \n",
    "        if \"专业分数\" in xl.sheet_names:\n",
    "            # 读取\"专业分数\"工作表\n",
    "            df = xl.parse(\"专业分数\")\n",
    "            \n",
    "            # 设置输出文件名\n",
    "            output_file = os.path.join(output_dir, f\"sichuan_{year}.xlsx\")\n",
    "            \n",
    "            # 将数据框保存为xlsx文件\n",
    "            df.to_excel(output_file, index=False)\n",
    "            print(f\"已导出四川 {year} 年专业分数数据到 {output_file}\")\n",
    "        else:\n",
    "            if \"专业数据\" in xl.sheet_names:\n",
    "                df = xl.parse(\"专业数据\")\n",
    "                output_file = os.path.join(output_dir, f\"sichuan_{year}.xlsx\")\n",
    "                df.to_excel(output_file, index=False)\n",
    "                print(f\"已导出四川 {year} 年专业数据到 {output_file}\")\n",
    "            else:\n",
    "                print(f\"在四川 {year} 年的文件中未找到'专业分数'或'专业数据'工作表\")\n",
    "    else:\n",
    "        print(f\"未找到四川 {year} 年的文件\")\n",
    "\n",
    "print(\"四川数据处理完成\")\n",
    "\n",
    "xl = pd.ExcelFile(sichuan + \"/四川-2021-专业分数0.xlsx\")\n",
    "df = xl.parse()  # 假设2021年的数据在第一个工作表\n",
    "df.to_excel(output_dir + \"/sichuan_2021.xlsx\", index=False)\n",
    "\n",
    "xl = pd.ExcelFile(sichuan + \"/四川-2022-专业录取分数V2.xlsx\")\n",
    "df = xl.parse()  # 假设2022年的数据在第一个工作表\n",
    "df.to_excel(output_dir + \"/sichuan_2022.xlsx\", index=False)\n",
    "\n"
   ]
  },
  {
   "cell_type": "markdown",
   "metadata": {},
   "source": [
    "### 宁夏"
   ]
  },
  {
   "cell_type": "code",
   "execution_count": 19,
   "metadata": {},
   "outputs": [
    {
     "name": "stdout",
     "output_type": "stream",
     "text": [
      "已导出宁夏 2016 年专业分数数据到 /Users/hubertcheung/Downloads/gaokao/cleaned/ningxia_2016.xlsx\n",
      "已导出宁夏 2017 年专业分数数据到 /Users/hubertcheung/Downloads/gaokao/cleaned/ningxia_2017.xlsx\n",
      "已导出宁夏 2018 年专业分数数据到 /Users/hubertcheung/Downloads/gaokao/cleaned/ningxia_2018.xlsx\n",
      "已导出宁夏 2019 年专业分数数据到 /Users/hubertcheung/Downloads/gaokao/cleaned/ningxia_2019.xlsx\n",
      "已导出宁夏 2020 年专业分数数据到 /Users/hubertcheung/Downloads/gaokao/cleaned/ningxia_2020.xlsx\n",
      "宁夏数据处理完成\n"
     ]
    }
   ],
   "source": [
    "ningxia = path1 + \"/22宁夏\"\n",
    "ningxia1 = ningxia + \"/宁夏16-21专业线+院校线+招生计划\"\n",
    "\n",
    "# 遍历2016到2020年的文件\n",
    "for year in range(2016, 2021):\n",
    "    input_file = os.path.join(ningxia1, f\"宁夏-{year}-专业分数.xlsx\")\n",
    "    \n",
    "    if os.path.exists(input_file):\n",
    "        # 读取Excel文件\n",
    "        xl = pd.ExcelFile(input_file)\n",
    "        # 设置输出文件名\n",
    "        output_file = os.path.join(output_dir, f\"ningxia_{year}.xlsx\")\n",
    "            \n",
    "            # 将数据框保存为xlsx文件\n",
    "        df.to_excel(output_file, index=False)\n",
    "        print(f\"已导出宁夏 {year} 年专业分数数据到 {output_file}\")\n",
    "        \n",
    "    else:\n",
    "        print(f\"未找到宁夏 {year} 年的文件\")\n",
    "\n",
    "print(\"宁夏数据处理完成\")\n",
    "\n",
    "xl = pd.ExcelFile(ningxia + \"/宁夏2021专业分.xlsx\")\n",
    "df.to_excel(output_dir + \"/ningxia_2021.xlsx\", index=False)\n",
    "\n",
    "xl = pd.ExcelFile(ningxia + \"/宁夏-2022-专业分数(1).xlsx\")\n",
    "df.to_excel(output_dir + \"/ningxia_2022.xlsx\", index=False)\n"
   ]
  },
  {
   "cell_type": "markdown",
   "metadata": {},
   "source": [
    "### 安徽"
   ]
  },
  {
   "cell_type": "code",
   "execution_count": 5,
   "metadata": {},
   "outputs": [
    {
     "name": "stdout",
     "output_type": "stream",
     "text": [
      "已导出安徽 2016 年专业分数数据到 /Users/hubertcheung/Downloads/gaokao/cleaned/anhui_2016.xlsx\n",
      "已导出安徽 2017 年专业分数数据到 /Users/hubertcheung/Downloads/gaokao/cleaned/anhui_2017.xlsx\n",
      "已导出安徽 2018 年专业分数数据到 /Users/hubertcheung/Downloads/gaokao/cleaned/anhui_2018.xlsx\n",
      "已导出安徽 2019 年专业分数数据到 /Users/hubertcheung/Downloads/gaokao/cleaned/anhui_2019.xlsx\n",
      "已导出安徽 2020 年专业分数数据到 /Users/hubertcheung/Downloads/gaokao/cleaned/anhui_2020.xlsx\n",
      "安徽数据处理完成\n"
     ]
    }
   ],
   "source": [
    "\n",
    "# 安徽数据处理\n",
    "anhui = path1 + \"/22安徽\"\n",
    "\n",
    "# 遍历2016到2020年的文件\n",
    "for year in range(2016, 2021):\n",
    "    input_file = os.path.join(anhui, f\"A安徽{year}.xlsx\")\n",
    "    \n",
    "    if os.path.exists(input_file):\n",
    "        # 读取Excel文件\n",
    "        xl = pd.ExcelFile(input_file)\n",
    "        \n",
    "        if \"专业分数\" in xl.sheet_names:\n",
    "            # 读取\"专业分数\"工作表\n",
    "            df = xl.parse(\"专业分数\")\n",
    "            \n",
    "            # 设置输出文件名\n",
    "            output_file = os.path.join(output_dir, f\"anhui_{year}.xlsx\")\n",
    "            \n",
    "            # 将数据框保存为xlsx文件\n",
    "            df.to_excel(output_file, index=False)\n",
    "            print(f\"已导出安徽 {year} 年专业分数数据到 {output_file}\")\n",
    "        else:\n",
    "            print(f\"在安徽 {year} 年的文件中未找到'专业分数'工作表\")\n",
    "    else:\n",
    "        print(f\"未找到安徽 {year} 年的文件\")\n",
    "\n",
    "xl = pd.ExcelFile(anhui + \"/安徽2021年专业分0623dw.xlsx\")\n",
    "df.to_excel(output_dir + \"/anhui_2021.xlsx\", index=False)\n",
    "\n",
    "xl = pd.ExcelFile(anhui + \"/A安徽-专业分数-2022.xlsx\")\n",
    "df = xl.parse()  # 假设2022年的数据在第一个工作表\n",
    "df.to_excel(output_dir + \"/anhui_2022.xlsx\", index=False)\n",
    "\n",
    "print(\"安徽数据处理完成\")\n"
   ]
  },
  {
   "cell_type": "markdown",
   "metadata": {},
   "source": [
    "### 山东"
   ]
  },
  {
   "cell_type": "code",
   "execution_count": 6,
   "metadata": {},
   "outputs": [
    {
     "name": "stdout",
     "output_type": "stream",
     "text": [
      "已导出山东 2016 年专业分数数据到 /Users/hubertcheung/Downloads/gaokao/cleaned/shandong_2016.xlsx\n",
      "已导出山东 2017 年专业分数数据到 /Users/hubertcheung/Downloads/gaokao/cleaned/shandong_2017.xlsx\n",
      "已导出山东 2018 年专业分数数据到 /Users/hubertcheung/Downloads/gaokao/cleaned/shandong_2018.xlsx\n",
      "已导出山东 2019 年专业分数数据到 /Users/hubertcheung/Downloads/gaokao/cleaned/shandong_2019.xlsx\n",
      "已导出山东 2020 年专业分数数据到 /Users/hubertcheung/Downloads/gaokao/cleaned/shandong_2020.xlsx\n",
      "山东2016-2020年数据处理完成\n",
      "已导出山东2021年数据\n",
      "已导出山东2022年数据\n",
      "山东所有年份数据处理完成\n"
     ]
    }
   ],
   "source": [
    "### 山东\n",
    "\n",
    "# 山东数据处理\n",
    "shandong = path1 + \"/22山东\"\n",
    "\n",
    "# 遍历2016到2020年的文件\n",
    "for year in range(2016, 2021):\n",
    "    input_file = os.path.join(shandong, f\"S山东{year}.xlsx\")\n",
    "    \n",
    "    if os.path.exists(input_file):\n",
    "        # 读取Excel文件\n",
    "        xl = pd.ExcelFile(input_file)\n",
    "        \n",
    "        if \"专业分数\" in xl.sheet_names:\n",
    "            # 读取\"专业分数\"工作表\n",
    "            df = xl.parse(\"专业分数\")\n",
    "            \n",
    "            # 设置输出文件名\n",
    "            output_file = os.path.join(output_dir, f\"shandong_{year}.xlsx\")\n",
    "            \n",
    "            # 将数据框保存为xlsx文件\n",
    "            df.to_excel(output_file, index=False)\n",
    "            print(f\"已导出山东 {year} 年专业分数数据到 {output_file}\")\n",
    "        else:\n",
    "            print(f\"在山东 {year} 年的文件中未找到'专业分数'工作表\")\n",
    "    else:\n",
    "        print(f\"未找到山东 {year} 年的文件\")\n",
    "\n",
    "print(\"山东2016-2020年数据处理完成\")\n",
    "\n",
    "# 处理2021年数据\n",
    "xl = pd.ExcelFile(shandong + \"/山东-2021-专业录取分数.xlsx\")\n",
    "df = xl.parse()  # 假设2021年的数据在第一个工作表\n",
    "df.to_excel(output_dir + \"/shandong_2021.xlsx\", index=False)\n",
    "print(\"已导出山东2021年数据\")\n",
    "\n",
    "# 处理2022年数据\n",
    "xl = pd.ExcelFile(shandong + \"/山东-2022-专业分数.xlsx\")\n",
    "df = xl.parse()  # 假设2022年的数据在第一个工作表\n",
    "df.to_excel(output_dir + \"/shandong_2022.xlsx\", index=False)\n",
    "print(\"已导出山东2022年数据\")\n",
    "\n",
    "print(\"山东所有年份数据处理完成\")"
   ]
  },
  {
   "cell_type": "markdown",
   "metadata": {},
   "source": [
    "### 山西"
   ]
  },
  {
   "cell_type": "code",
   "execution_count": 7,
   "metadata": {},
   "outputs": [
    {
     "name": "stdout",
     "output_type": "stream",
     "text": [
      "已导出山西 2016 年专业分数数据到 /Users/hubertcheung/Downloads/gaokao/cleaned/shanxi_2016.xlsx\n",
      "已导出山西 2017 年专业分数数据到 /Users/hubertcheung/Downloads/gaokao/cleaned/shanxi_2017.xlsx\n",
      "已导出山西 2018 年专业分数数据到 /Users/hubertcheung/Downloads/gaokao/cleaned/shanxi_2018.xlsx\n",
      "已导出山西 2019 年专业分数数据到 /Users/hubertcheung/Downloads/gaokao/cleaned/shanxi_2019.xlsx\n",
      "在山西 2020 年的文件中未找到'专业分数'工作表\n",
      "山西2016-2020年数据处理完成\n",
      "已导出山西2021年数据\n",
      "已导出山西2022年数据\n",
      "山西所有年份数据处理完成\n"
     ]
    }
   ],
   "source": [
    "### 山西\n",
    "\n",
    "# 山西数据处理\n",
    "shanxi = path1 + \"/22山西\"\n",
    "\n",
    "# 遍历2016到2020年的文件\n",
    "for year in range(2016, 2021):\n",
    "    input_file = os.path.join(shanxi, f\"S山西{year}.xlsx\")\n",
    "    \n",
    "    if os.path.exists(input_file):\n",
    "        # 读取Excel文件\n",
    "        xl = pd.ExcelFile(input_file)\n",
    "        \n",
    "        if \"专业分数\" in xl.sheet_names:\n",
    "            # 读取\"专业分数\"工作表\n",
    "            df = xl.parse(\"专业分数\")\n",
    "            \n",
    "            # 设置输出文件名\n",
    "            output_file = os.path.join(output_dir, f\"shanxi_{year}.xlsx\")\n",
    "            \n",
    "            # 将数据框保存为xlsx文件\n",
    "            df.to_excel(output_file, index=False)\n",
    "            print(f\"已导出山西 {year} 年专业分数数据到 {output_file}\")\n",
    "        else:\n",
    "            print(f\"在山西 {year} 年的文件中未找到'专业分数'工作表\")\n",
    "    else:\n",
    "        print(f\"未找到山西 {year} 年的文件\")\n",
    "\n",
    "print(\"山西2016-2020年数据处理完成\")\n",
    "\n",
    "# 处理2021年数据\n",
    "xl = pd.ExcelFile(shanxi + \"/山西-2021-专业录取分数0623dw.xlsx\")\n",
    "df = xl.parse()  # 假设2021年的数据在第一个工作表\n",
    "df.to_excel(output_dir + \"/shanxi_2021.xlsx\", index=False)\n",
    "print(\"已导出山西2021年数据\")\n",
    "\n",
    "# 处理2022年数据\n",
    "xl = pd.ExcelFile(shanxi + \"/山西-专业分数-2022(1).xlsx\")\n",
    "df = xl.parse()  # 假设2022年的数据在第一个工作表\n",
    "df.to_excel(output_dir + \"/shanxi_2022.xlsx\", index=False)\n",
    "print(\"已导出山西2022年数据\")\n",
    "\n",
    "print(\"山西所有年份数据处理完成\")"
   ]
  },
  {
   "cell_type": "markdown",
   "metadata": {},
   "source": [
    "### 广东"
   ]
  },
  {
   "cell_type": "code",
   "execution_count": 8,
   "metadata": {},
   "outputs": [
    {
     "name": "stdout",
     "output_type": "stream",
     "text": [
      "已导出广东 2016 年专业分数数据到 /Users/hubertcheung/Downloads/gaokao/cleaned/guangdong_2016.xlsx\n",
      "已导出广东 2017 年专业分数数据到 /Users/hubertcheung/Downloads/gaokao/cleaned/guangdong_2017.xlsx\n",
      "已导出广东 2018 年专业分数数据到 /Users/hubertcheung/Downloads/gaokao/cleaned/guangdong_2018.xlsx\n",
      "已导出广东 2019 年专业分数数据到 /Users/hubertcheung/Downloads/gaokao/cleaned/guangdong_2019.xlsx\n",
      "已导出广东 2020 年专业分数数据到 /Users/hubertcheung/Downloads/gaokao/cleaned/guangdong_2020.xlsx\n",
      "广东2016-2020年数据处理完成\n",
      "已导出广东2021年数据\n",
      "已导出广东2022年数据\n",
      "广东所有年份数据处理完成\n"
     ]
    }
   ],
   "source": [
    "### 广东\n",
    "\n",
    "# 广东数据处理\n",
    "guangdong = path1 + \"/22广东\"\n",
    "\n",
    "# 遍历2016到2020年的文件\n",
    "for year in range(2016, 2021):\n",
    "    input_file = os.path.join(guangdong, f\"G广东{year}.xlsx\")\n",
    "    \n",
    "    if os.path.exists(input_file):\n",
    "        # 读取Excel文件\n",
    "        xl = pd.ExcelFile(input_file)\n",
    "        \n",
    "        if \"专业分数\" in xl.sheet_names:\n",
    "            # 读取\"专业分数\"工作表\n",
    "            df = xl.parse(\"专业分数\")\n",
    "            \n",
    "            # 设置输出文件名\n",
    "            output_file = os.path.join(output_dir, f\"guangdong_{year}.xlsx\")\n",
    "            \n",
    "            # 将数据框保存为xlsx文件\n",
    "            df.to_excel(output_file, index=False)\n",
    "            print(f\"已导出广东 {year} 年专业分数数据到 {output_file}\")\n",
    "        else:\n",
    "            print(f\"在广东 {year} 年的文件中未找到'专业分数'工作表\")\n",
    "    else:\n",
    "        print(f\"未找到广东 {year} 年的文件\")\n",
    "\n",
    "print(\"广东2016-2020年数据处理完成\")\n",
    "\n",
    "# 处理2021年数据\n",
    "xl = pd.ExcelFile(guangdong + \"/广东-2021-专业录取分数0623dwV3.0.xlsx\")\n",
    "df = xl.parse()  # 假设2021年的数据在第一个工作表\n",
    "df.to_excel(output_dir + \"/guangdong_2021.xlsx\", index=False)\n",
    "print(\"已导出广东2021年数据\")\n",
    "\n",
    "# 处理2022年数据\n",
    "xl = pd.ExcelFile(guangdong + \"/广东-2022-专业录取分数0612_data(1).xlsx\")\n",
    "df = xl.parse()  # 假设2022年的数据在第一个工作表\n",
    "df.to_excel(output_dir + \"/guangdong_2022.xlsx\", index=False)\n",
    "print(\"已导出广东2022年数据\")\n",
    "\n",
    "print(\"广东所有年份数据处理完成\")"
   ]
  },
  {
   "cell_type": "markdown",
   "metadata": {},
   "source": [
    "### 广西"
   ]
  },
  {
   "cell_type": "code",
   "execution_count": 9,
   "metadata": {},
   "outputs": [
    {
     "name": "stdout",
     "output_type": "stream",
     "text": [
      "已导出广西 2016 年专业分数数据到 /Users/hubertcheung/Downloads/gaokao/cleaned/guangxi_2016.xlsx\n",
      "已导出广西 2017 年专业分数数据到 /Users/hubertcheung/Downloads/gaokao/cleaned/guangxi_2017.xlsx\n",
      "已导出广西 2018 年专业分数数据到 /Users/hubertcheung/Downloads/gaokao/cleaned/guangxi_2018.xlsx\n",
      "已导出广西 2019 年专业分数数据到 /Users/hubertcheung/Downloads/gaokao/cleaned/guangxi_2019.xlsx\n",
      "已导出广西 2020 年专业分数数据到 /Users/hubertcheung/Downloads/gaokao/cleaned/guangxi_2020.xlsx\n",
      "广西2016-2020年数据处理完成\n",
      "已导出广西2021年数据\n",
      "已导出广西2022年数据\n",
      "广西所有年份数据处理完成\n"
     ]
    }
   ],
   "source": [
    "### 广西\n",
    "\n",
    "# 广西数据处理\n",
    "guangxi = path1 + \"/22广西\"\n",
    "\n",
    "# 遍历2016到2020年的文件\n",
    "for year in range(2016, 2021):\n",
    "    input_file = os.path.join(guangxi, f\"G广西{year}.xlsx\")\n",
    "    \n",
    "    if os.path.exists(input_file):\n",
    "        # 读取Excel文件\n",
    "        xl = pd.ExcelFile(input_file)\n",
    "        \n",
    "        if \"专业分数\" in xl.sheet_names:\n",
    "            # 读取\"专业分数\"工作表\n",
    "            df = xl.parse(\"专业分数\")\n",
    "            \n",
    "            # 设置输出文件名\n",
    "            output_file = os.path.join(output_dir, f\"guangxi_{year}.xlsx\")\n",
    "            \n",
    "            # 将数据框保存为xlsx文件\n",
    "            df.to_excel(output_file, index=False)\n",
    "            print(f\"已导出广西 {year} 年专业分数数据到 {output_file}\")\n",
    "        else:\n",
    "            print(f\"在广西 {year} 年的文件中未找到'专业分数'工作表\")\n",
    "    else:\n",
    "        print(f\"未找到广西 {year} 年的文件\")\n",
    "\n",
    "print(\"广西2016-2020年数据处理完成\")\n",
    "\n",
    "# 处理2021年数据\n",
    "xl = pd.ExcelFile(guangxi + \"/广西-2021-专业分数0526(1).xlsx\")\n",
    "df = xl.parse()  # 假设2021年的数据在第一个工作表\n",
    "df.to_excel(output_dir + \"/guangxi_2021.xlsx\", index=False)\n",
    "print(\"已导出广西2021年数据\")\n",
    "\n",
    "# 处理2022年数据\n",
    "xl = pd.ExcelFile(guangxi + \"/广西-2022-专业分数525data.xlsx\")\n",
    "df = xl.parse()  # 假设2022年的数据在第一个工作表\n",
    "df.to_excel(output_dir + \"/guangxi_2022.xlsx\", index=False)\n",
    "print(\"已导出广西2022年数据\")\n",
    "\n",
    "print(\"广西所有年份数据处理完成\")"
   ]
  },
  {
   "cell_type": "markdown",
   "metadata": {},
   "source": [
    "### 新疆"
   ]
  },
  {
   "cell_type": "code",
   "execution_count": 20,
   "metadata": {},
   "outputs": [
    {
     "name": "stdout",
     "output_type": "stream",
     "text": [
      "已导出新疆 2016 年专业分数数据到 /Users/hubertcheung/Downloads/gaokao/cleaned/xinjiang_2016.xlsx\n",
      "已导出新疆 2017 年专业分数数据到 /Users/hubertcheung/Downloads/gaokao/cleaned/xinjiang_2017.xlsx\n",
      "已导出新疆 2018 年专业分数数据到 /Users/hubertcheung/Downloads/gaokao/cleaned/xinjiang_2018.xlsx\n",
      "已导出新疆 2019 年专业分数数据到 /Users/hubertcheung/Downloads/gaokao/cleaned/xinjiang_2019.xlsx\n",
      "已导出新疆 2020 年 data客户new 数据到 /Users/hubertcheung/Downloads/gaokao/cleaned/xinjiang_2020_data客户new.xlsx\n",
      "已导出新疆 2020 年 补充专科 数据到 /Users/hubertcheung/Downloads/gaokao/cleaned/xinjiang_2020_补充专科.xlsx\n",
      "已导出新疆 2021 年专业分数数据到 /Users/hubertcheung/Downloads/gaokao/cleaned/xinjiang_2021.xlsx\n",
      "已导出新疆 2022 年专业分数数据到 /Users/hubertcheung/Downloads/gaokao/cleaned/xinjiang_2022.xlsx\n",
      "新疆所有年份数据处理完成\n"
     ]
    }
   ],
   "source": [
    "### 新疆\n",
    "\n",
    "# 新疆数据处理\n",
    "xinjiang = path1 + \"/22新疆\"\n",
    "\n",
    "# 遍历2016到2022年的文件\n",
    "for year in range(2016, 2023):\n",
    "    input_file = os.path.join(xinjiang, f\"X新疆{year}.xlsx\")\n",
    "    \n",
    "    if os.path.exists(input_file):\n",
    "        # 读取Excel文件\n",
    "        xl = pd.ExcelFile(input_file)\n",
    "        \n",
    "        if year == 2020:\n",
    "            # 2020年特殊处理：分两个工作表输出\n",
    "            for sheet_name in xl.sheet_names:\n",
    "                df = xl.parse(sheet_name)\n",
    "                output_file = os.path.join(output_dir, f\"xinjiang_2020_{sheet_name}.xlsx\")\n",
    "                df.to_excel(output_file, index=False)\n",
    "                print(f\"已导出新疆 2020 年 {sheet_name} 数据到 {output_file}\")\n",
    "                \n",
    "        elif \"专业分数\" in xl.sheet_names:\n",
    "            # 读取\"专业分数\"工作表\n",
    "            df = xl.parse(\"专业分数\")\n",
    "            \n",
    "            # 设置输出文件名\n",
    "            output_file = os.path.join(output_dir, f\"xinjiang_{year}.xlsx\")\n",
    "            \n",
    "            # 将数据框保存为xlsx文件\n",
    "            df.to_excel(output_file, index=False)\n",
    "            print(f\"已导出新疆 {year} 年专业分数数据到 {output_file}\")\n",
    "        else:\n",
    "            # 如果没有\"专业分数\"工作表，则读取默认工作表\n",
    "            df = xl.parse()\n",
    "            \n",
    "            # 设置输出文件名\n",
    "            output_file = os.path.join(output_dir, f\"xinjiang_{year}.xlsx\")\n",
    "            \n",
    "            # 将数据框保存为xlsx文件\n",
    "            df.to_excel(output_file, index=False)\n",
    "            print(f\"已导出新疆 {year} 年专业分数数据到 {output_file}\")\n",
    "    else:\n",
    "        print(f\"未找到新疆 {year} 年的文件\")\n",
    "print(\"新疆所有年份数据处理完成\")"
   ]
  },
  {
   "cell_type": "markdown",
   "metadata": {},
   "source": [
    "### 江苏"
   ]
  },
  {
   "cell_type": "code",
   "execution_count": null,
   "metadata": {},
   "outputs": [],
   "source": [
    "### 江苏\n",
    "\n",
    "# 江苏数据处理\n",
    "jiangsu = path1 + \"/22江苏\"\n",
    "\n",
    "# 遍历2016到2020年的文件\n",
    "for year in range(2016, 2021):\n",
    "    input_file = os.path.join(jiangsu, f\"J江苏{year}.xlsx\")\n",
    "    \n",
    "    if os.path.exists(input_file):\n",
    "        # 读取Excel文件\n",
    "        xl = pd.ExcelFile(input_file)\n",
    "        \n",
    "        if \"专业分数\" in xl.sheet_names:\n",
    "            # 读取\"专业分数\"工作表\n",
    "            df = xl.parse(\"专业分数\")\n",
    "            \n",
    "            # 设置输出文件名\n",
    "            output_file = os.path.join(output_dir, f\"jiangsu_{year}.xlsx\")\n",
    "            \n",
    "            # 将数据框保存为xlsx文件\n",
    "            df.to_excel(output_file, index=False)\n",
    "            print(f\"已导出江苏 {year} 年专业分数数据到 {output_file}\")\n",
    "        else:\n",
    "            print(f\"在江苏 {year} 年的文件中未找到'专业分数'工作表\")\n",
    "    else:\n",
    "        print(f\"未找到江苏 {year} 年的文件\")\n",
    "\n",
    "print(\"江苏2016-2020年数据处理完成\")\n",
    "\n",
    "# 处理2021年数据\n",
    "xl = pd.ExcelFile(jiangsu + \"/江苏-2021-专业分数.xlsx\")\n",
    "df = xl.parse()  # 假设2021年的数据在第一个工作表\n",
    "df.to_excel(output_dir + \"/jiangsu_2021.xlsx\", index=False)\n",
    "print(\"已导出江苏2021年数据\")\n",
    "\n",
    "# 处理2022年数据\n",
    "xl = pd.ExcelFile(jiangsu + \"/江苏-2022-专业分数.xlsx\")\n",
    "df = xl.parse()  # 假设2022年的数据在第一个工作表\n",
    "df.to_excel(output_dir + \"/jiangsu_2022.xlsx\", index=False)\n",
    "print(\"已导出江苏2022年数据\")\n",
    "\n",
    "print(\"江苏所有年份数据处理完成\")"
   ]
  },
  {
   "cell_type": "markdown",
   "metadata": {},
   "source": [
    "### 江西"
   ]
  },
  {
   "cell_type": "code",
   "execution_count": 10,
   "metadata": {},
   "outputs": [
    {
     "name": "stdout",
     "output_type": "stream",
     "text": [
      "已导出江西 2016 年专业分数数据到 /Users/hubertcheung/Downloads/gaokao/cleaned/jiangxi_2016.xlsx\n",
      "已导出江西 2017 年专业分数数据到 /Users/hubertcheung/Downloads/gaokao/cleaned/jiangxi_2017.xlsx\n",
      "已导出江西 2018 年专业分数数据到 /Users/hubertcheung/Downloads/gaokao/cleaned/jiangxi_2018.xlsx\n",
      "已导出江西 2019 年专业分数数据到 /Users/hubertcheung/Downloads/gaokao/cleaned/jiangxi_2019.xlsx\n",
      "已导出江西 2020 年专业分数数据到 /Users/hubertcheung/Downloads/gaokao/cleaned/jiangxi_2020.xlsx\n",
      "江西2016-2020年数据处理完成\n",
      "已导出江西2021年数据\n",
      "已导出江西2022年数据\n",
      "江西所有年份数据处理完成\n"
     ]
    }
   ],
   "source": [
    "### 江西\n",
    "\n",
    "# 江西数据处理\n",
    "jiangxi = path1 + \"/22江西\"\n",
    "\n",
    "# 遍历2016到2020年的文件\n",
    "for year in range(2016, 2021):\n",
    "    input_file = os.path.join(jiangxi, f\"J江西{year}.xlsx\")\n",
    "    \n",
    "    if os.path.exists(input_file):\n",
    "        # 读取Excel文件\n",
    "        xl = pd.ExcelFile(input_file)\n",
    "        \n",
    "        if \"专业分数\" in xl.sheet_names:\n",
    "            # 读取\"专业分数\"工作表\n",
    "            df = xl.parse(\"专业分数\")\n",
    "            \n",
    "            # 设置输出文件名\n",
    "            output_file = os.path.join(output_dir, f\"jiangxi_{year}.xlsx\")\n",
    "            \n",
    "            # 将数据框保存为xlsx文件\n",
    "            df.to_excel(output_file, index=False)\n",
    "            print(f\"已导出江西 {year} 年专业分数数据到 {output_file}\")\n",
    "        else:\n",
    "            print(f\"在江西 {year} 年的文件中未找到'专业分数'工作表\")\n",
    "    else:\n",
    "        print(f\"未找到江西 {year} 年的文件\")\n",
    "\n",
    "print(\"江西2016-2020年数据处理完成\")\n",
    "\n",
    "# 处理2021年数据\n",
    "xl = pd.ExcelFile(jiangxi + \"/江西2021专业线0623dw.xlsx\")\n",
    "df = xl.parse()  # 假设2021年的数据在第一个工作表\n",
    "df.to_excel(output_dir + \"/jiangxi_2021.xlsx\", index=False)\n",
    "print(\"已导出江西2021年数据\")\n",
    "\n",
    "# 处理2022年数据\n",
    "xl = pd.ExcelFile(jiangxi + \"/江西-202..ta.xlsx\")\n",
    "df = xl.parse()  # 假设2022年的数据在第一个工作表\n",
    "df.to_excel(output_dir + \"/jiangxi_2022.xlsx\", index=False)\n",
    "print(\"已导出江西2022年数据\")\n",
    "\n",
    "print(\"江西所有年份数据处理完成\")"
   ]
  },
  {
   "cell_type": "markdown",
   "metadata": {},
   "source": [
    "### 河北"
   ]
  },
  {
   "cell_type": "code",
   "execution_count": 12,
   "metadata": {},
   "outputs": [
    {
     "name": "stdout",
     "output_type": "stream",
     "text": [
      "已导出河北 2016 年专业分数数据到 /Users/hubertcheung/Downloads/gaokao/cleaned/hebei_2016.xlsx\n",
      "已导出河北 2017 年专业分数数据到 /Users/hubertcheung/Downloads/gaokao/cleaned/hebei_2017.xlsx\n",
      "已导出河北 2018 年专业分数数据到 /Users/hubertcheung/Downloads/gaokao/cleaned/hebei_2018.xlsx\n",
      "已导出河北 2019 年专业分数数据到 /Users/hubertcheung/Downloads/gaokao/cleaned/hebei_2019.xlsx\n",
      "已导出河北 2020 年专业分数数据到 /Users/hubertcheung/Downloads/gaokao/cleaned/hebei_2020.xlsx\n",
      "已导出河北 2021 年专业分数数据到 /Users/hubertcheung/Downloads/gaokao/cleaned/hebei_2021.xlsx\n",
      "已导出河北 2022 年专业分数数据到 /Users/hubertcheung/Downloads/gaokao/cleaned/hebei_2022.xlsx\n",
      "河北所有年份数据处理完成\n"
     ]
    }
   ],
   "source": [
    "### 河北\n",
    "\n",
    "# 河北数据处理\n",
    "hebei = path1 + \"/22河北\"\n",
    "\n",
    "# 遍历2016到2020年的文件\n",
    "for year in range(2016, 2023):\n",
    "    input_file = os.path.join(hebei, f\"河北-{year}专业分数.xlsx\")\n",
    "    \n",
    "    if os.path.exists(input_file):\n",
    "        # 读取Excel文件\n",
    "        xl = pd.ExcelFile(input_file)\n",
    "        \n",
    "        if \"专业分数\" in xl.sheet_names:\n",
    "            # 读取\"专业分数\"工作表\n",
    "            df = xl.parse(\"专业分数\")\n",
    "            \n",
    "            # 设置输出文件名\n",
    "            output_file = os.path.join(output_dir, f\"hebei_{year}.xlsx\")\n",
    "            \n",
    "            # 将数据框保存为xlsx文件\n",
    "            df.to_excel(output_file, index=False)\n",
    "            print(f\"已导出河北 {year} 年专业分数数据到 {output_file}\")\n",
    "        else:\n",
    "            # 如果没有\"专业分数\"工作表，则读取默认工作表\n",
    "            df = xl.parse()\n",
    "            \n",
    "            # 设置输出文件名\n",
    "            output_file = os.path.join(output_dir, f\"hebei_{year}.xlsx\")\n",
    "            \n",
    "            # 将数据框保存为xlsx文件\n",
    "            df.to_excel(output_file, index=False)\n",
    "            print(f\"已导出河北 {year} 年专业分数数据到 {output_file}\")\n",
    "    else:\n",
    "        print(f\"未找到河北 {year} 年的文件\")\n",
    "\n",
    "print(\"河北所有年份数据处理完成\")"
   ]
  },
  {
   "cell_type": "markdown",
   "metadata": {},
   "source": [
    "### 河南"
   ]
  },
  {
   "cell_type": "code",
   "execution_count": 13,
   "metadata": {},
   "outputs": [
    {
     "name": "stdout",
     "output_type": "stream",
     "text": [
      "已导出河南 2016 年专业分数数据到 /Users/hubertcheung/Downloads/gaokao/cleaned/henan_2016.xlsx\n",
      "已导出河南 2017 年专业分数数据到 /Users/hubertcheung/Downloads/gaokao/cleaned/henan_2017.xlsx\n",
      "已导出河南 2018 年专业分数数据到 /Users/hubertcheung/Downloads/gaokao/cleaned/henan_2018.xlsx\n",
      "已导出河南 2019 年专业分数数据到 /Users/hubertcheung/Downloads/gaokao/cleaned/henan_2019.xlsx\n",
      "已导出河南 2020 年专业分数数据到 /Users/hubertcheung/Downloads/gaokao/cleaned/henan_2020.xlsx\n",
      "已导出河南 2021 年专业分数数据到 /Users/hubertcheung/Downloads/gaokao/cleaned/henan_2021.xlsx\n",
      "已导出河南 2022 年专业分数数据到 /Users/hubertcheung/Downloads/gaokao/cleaned/henan_2022.xlsx\n",
      "河南所有年份数据处理完成\n"
     ]
    }
   ],
   "source": [
    "### 河南\n",
    "\n",
    "# 河南数据处理\n",
    "henan = path1 + \"/22河南\"\n",
    "\n",
    "# 遍历2016到2020年的文件\n",
    "for year in range(2016, 2023):\n",
    "    input_file = os.path.join(henan, f\"H河南{year}.xlsx\")\n",
    "    \n",
    "    if os.path.exists(input_file):\n",
    "        # 读取Excel文件\n",
    "        xl = pd.ExcelFile(input_file)\n",
    "        \n",
    "        if \"专业分数\" in xl.sheet_names:\n",
    "            # 读取\"专业分数\"工作表\n",
    "            df = xl.parse(\"专业分数\")\n",
    "            \n",
    "            # 设置输出文件名\n",
    "            output_file = os.path.join(output_dir, f\"henan_{year}.xlsx\")\n",
    "            \n",
    "            # 将数据框保存为xlsx文件\n",
    "            df.to_excel(output_file, index=False)\n",
    "            print(f\"已导出河南 {year} 年专业分数数据到 {output_file}\")\n",
    "        else:\n",
    "            # 如果没有\"专业分数\"工作表，则读取默认工作表\n",
    "            df = xl.parse()\n",
    "            \n",
    "            # 设置输出文件名\n",
    "            output_file = os.path.join(output_dir, f\"henan_{year}.xlsx\")\n",
    "            \n",
    "            # 将数据框保存为xlsx文件\n",
    "            df.to_excel(output_file, index=False)\n",
    "            print(f\"已导出河南 {year} 年专业分数数据到 {output_file}\")\n",
    "    else:\n",
    "        print(f\"未找到河南 {year} 年的文件\")\n",
    "\n",
    "\n",
    "print(\"河南所有年份数据处理完成\")"
   ]
  },
  {
   "cell_type": "markdown",
   "metadata": {},
   "source": [
    "### 浙江"
   ]
  },
  {
   "cell_type": "code",
   "execution_count": 21,
   "metadata": {},
   "outputs": [
    {
     "name": "stdout",
     "output_type": "stream",
     "text": [
      "已导出浙江 2016 年专业分数数据到 /Users/hubertcheung/Downloads/gaokao/cleaned/zhejiang_2016.xlsx\n",
      "已导出浙江 2017 年专业分数数据到 /Users/hubertcheung/Downloads/gaokao/cleaned/zhejiang_2017.xlsx\n",
      "已导出浙江 2018 年专业分数数据到 /Users/hubertcheung/Downloads/gaokao/cleaned/zhejiang_2018.xlsx\n",
      "已导出浙江 2019 年专业分数数据到 /Users/hubertcheung/Downloads/gaokao/cleaned/zhejiang_2019.xlsx\n",
      "已导出浙江 2020 年专业分数数据到 /Users/hubertcheung/Downloads/gaokao/cleaned/zhejiang_2020.xlsx\n",
      "已导出浙江 2021 年 普通类 数据到 /Users/hubertcheung/Downloads/gaokao/cleaned/zhejiang_2021_普通类.xlsx\n",
      "已导出浙江 2021 年 体育 数据到 /Users/hubertcheung/Downloads/gaokao/cleaned/zhejiang_2021_体育.xlsx\n",
      "已导出浙江 2021 年 艺术 数据到 /Users/hubertcheung/Downloads/gaokao/cleaned/zhejiang_2021_艺术.xlsx\n",
      "已导出浙江 2022 年专业分数数据到 /Users/hubertcheung/Downloads/gaokao/cleaned/zhejiang_2022.xlsx\n",
      "浙江所有年份数据处理完成\n"
     ]
    }
   ],
   "source": [
    "### 浙江\n",
    "\n",
    "# 浙江数据处理\n",
    "zhejiang = path1 + \"/22浙江\"\n",
    "\n",
    "# 遍历2016到2022年的文件\n",
    "for year in range(2016, 2023):\n",
    "    input_file = os.path.join(zhejiang, f\"Z浙江{year}.xlsx\")\n",
    "    \n",
    "    if os.path.exists(input_file):\n",
    "        # 读取Excel文件\n",
    "        xl = pd.ExcelFile(input_file)\n",
    "        \n",
    "        if year == 2021:\n",
    "            # 对2021年的文件，保存每个工作表到不同的文件\n",
    "            for sheet_name in xl.sheet_names:\n",
    "                df = xl.parse(sheet_name)\n",
    "                output_file = os.path.join(output_dir, f\"zhejiang_2021_{sheet_name}.xlsx\")\n",
    "                df.to_excel(output_file, index=False)\n",
    "                print(f\"已导出浙江 2021 年 {sheet_name} 数据到 {output_file}\")\n",
    "                \n",
    "        elif \"专业分数\" in xl.sheet_names:\n",
    "            # 读取\"专业分数\"工作表\n",
    "            df = xl.parse(\"专业分数\")\n",
    "            \n",
    "            # 设置输出文件名\n",
    "            output_file = os.path.join(output_dir, f\"zhejiang_{year}.xlsx\")\n",
    "            \n",
    "            # 将数据框保存为xlsx文件\n",
    "            df.to_excel(output_file, index=False)\n",
    "            print(f\"已导出浙江 {year} 年专业分数数据到 {output_file}\")\n",
    "        else:\n",
    "            # 如果没有\"专业分数\"工作表，则读取默认工作表\n",
    "            df = xl.parse()\n",
    "            \n",
    "            # 设置输出文件名\n",
    "            output_file = os.path.join(output_dir, f\"zhejiang_{year}.xlsx\")\n",
    "            \n",
    "            # 将数据框保存为xlsx文件\n",
    "            df.to_excel(output_file, index=False)\n",
    "            print(f\"已导出浙江 {year} 年专业分数数据到 {output_file}\")\n",
    "    else:\n",
    "        print(f\"未找到浙江 {year} 年的文件\")\n",
    "print(\"浙江所有年份数据处理完成\")"
   ]
  },
  {
   "cell_type": "markdown",
   "metadata": {},
   "source": [
    "### 海南"
   ]
  },
  {
   "cell_type": "code",
   "execution_count": 14,
   "metadata": {},
   "outputs": [
    {
     "name": "stdout",
     "output_type": "stream",
     "text": [
      "已导出海南 2016 年专业分数数据到 /Users/hubertcheung/Downloads/gaokao/cleaned/hainan_2016.xlsx\n",
      "已导出海南 2017 年专业分数数据到 /Users/hubertcheung/Downloads/gaokao/cleaned/hainan_2017.xlsx\n",
      "已导出海南 2018 年专业分数数据到 /Users/hubertcheung/Downloads/gaokao/cleaned/hainan_2018.xlsx\n",
      "已导出海南 2019 年专业分数数据到 /Users/hubertcheung/Downloads/gaokao/cleaned/hainan_2019.xlsx\n",
      "已导出海南 2020 年专业分数数据到 /Users/hubertcheung/Downloads/gaokao/cleaned/hainan_2020.xlsx\n",
      "已导出海南 2021 年专业分数数据到 /Users/hubertcheung/Downloads/gaokao/cleaned/hainan_2021.xlsx\n",
      "已导出海南 2022 年专业分数数据到 /Users/hubertcheung/Downloads/gaokao/cleaned/hainan_2022.xlsx\n",
      "海南所有年份数据处理完成\n"
     ]
    }
   ],
   "source": [
    "### 海南\n",
    "\n",
    "# 海南数据处理\n",
    "hainan = path1 + \"/22海南\"\n",
    "\n",
    "# 遍历2016到2022年的文件\n",
    "for year in range(2016, 2023):\n",
    "    input_file = os.path.join(hainan, f\"H海南{year}.xlsx\")\n",
    "    \n",
    "    if os.path.exists(input_file):\n",
    "        # 读取Excel文件\n",
    "        xl = pd.ExcelFile(input_file)\n",
    "        \n",
    "        if \"专业分数\" in xl.sheet_names:\n",
    "            # 读取\"专业分数\"工作表\n",
    "            df = xl.parse(\"专业分数\")\n",
    "            \n",
    "            # 设置输出文件名\n",
    "            output_file = os.path.join(output_dir, f\"hainan_{year}.xlsx\")\n",
    "            \n",
    "            # 将数据框保存为xlsx文件\n",
    "            df.to_excel(output_file, index=False)\n",
    "            print(f\"已导出海南 {year} 年专业分数数据到 {output_file}\")\n",
    "        else:\n",
    "            # 如果没有\"专业分数\"工作表，则读取默认工作表\n",
    "            df = xl.parse()\n",
    "            \n",
    "            # 设置输出文件名\n",
    "            output_file = os.path.join(output_dir, f\"hainan_{year}.xlsx\")\n",
    "            \n",
    "            # 将数据框保存为xlsx文件\n",
    "            df.to_excel(output_file, index=False)\n",
    "            print(f\"已导出海南 {year} 年专业分数数据到 {output_file}\")\n",
    "    else:\n",
    "        print(f\"未找到海南 {year} 年的文件\")\n",
    "\n",
    "print(\"海南所有年份数据处理完成\")"
   ]
  },
  {
   "cell_type": "markdown",
   "metadata": {},
   "source": [
    "### 湖北"
   ]
  },
  {
   "cell_type": "code",
   "execution_count": 4,
   "metadata": {},
   "outputs": [
    {
     "name": "stdout",
     "output_type": "stream",
     "text": [
      "已导出湖北 2016 年专业分数数据到 /Users/hubertcheung/Downloads/gaokao/cleaned/hubei_2016.xlsx\n",
      "已导出湖北 2017 年专业分数数据到 /Users/hubertcheung/Downloads/gaokao/cleaned/hubei_2017.xlsx\n",
      "已导出湖北 2018 年专业分数数据到 /Users/hubertcheung/Downloads/gaokao/cleaned/hubei_2018.xlsx\n",
      "已导出湖北 2019 年专业分数数据到 /Users/hubertcheung/Downloads/gaokao/cleaned/hubei_2019.xlsx\n",
      "已导出湖北 2020 年专业分数数据到 /Users/hubertcheung/Downloads/gaokao/cleaned/hubei_2020.xlsx\n",
      "已导出湖北 2021 年专业分数数据到 /Users/hubertcheung/Downloads/gaokao/cleaned/hubei_2021.xlsx\n",
      "已导出湖北 2022 年专业分数数据到 /Users/hubertcheung/Downloads/gaokao/cleaned/hubei_2022.xlsx\n",
      "湖北所有年份数据处理完成\n"
     ]
    }
   ],
   "source": [
    "### 湖北\n",
    "\n",
    "# 湖北数据处理\n",
    "hubei = path1 + \"/22湖北\"\n",
    "\n",
    "# 遍历2016到2022年的文件\n",
    "for year in range(2016, 2023):\n",
    "    input_file = os.path.join(hubei, f\"H湖北{year}.xlsx\")\n",
    "    \n",
    "    if os.path.exists(input_file):\n",
    "        # 读取Excel文件\n",
    "        xl = pd.ExcelFile(input_file)\n",
    "        \n",
    "        if \"专业分数\" in xl.sheet_names:\n",
    "            # 读取\"专业分数\"工作表\n",
    "            df = xl.parse(\"专业分数\")\n",
    "            \n",
    "            # 设置输出文件名\n",
    "            output_file = os.path.join(output_dir, f\"hubei_{year}.xlsx\")\n",
    "            \n",
    "            # 将数据框保存为xlsx文件\n",
    "            df.to_excel(output_file, index=False)\n",
    "            print(f\"已导出湖北 {year} 年专业分数数据到 {output_file}\")\n",
    "        else:\n",
    "            # 如果没有\"专业分数\"工作表，则读取默认工作表\n",
    "            df = xl.parse()\n",
    "            \n",
    "            # 设置输出文件名\n",
    "            output_file = os.path.join(output_dir, f\"hubei_{year}.xlsx\")\n",
    "            \n",
    "            # 将数据框保存为xlsx文件\n",
    "            df.to_excel(output_file, index=False)\n",
    "            print(f\"已导出湖北 {year} 年专业分数数据到 {output_file}\")\n",
    "    else:\n",
    "        print(f\"未找到湖北 {year} 年的文件\")\n",
    "\n",
    "print(\"湖北所有年份数据处理完成\")"
   ]
  },
  {
   "cell_type": "markdown",
   "metadata": {},
   "source": [
    "### 湖南"
   ]
  },
  {
   "cell_type": "code",
   "execution_count": 5,
   "metadata": {},
   "outputs": [
    {
     "name": "stdout",
     "output_type": "stream",
     "text": [
      "已导出湖南 2016 年专业分数数据到 /Users/hubertcheung/Downloads/gaokao/cleaned/hunan_2016.xlsx\n",
      "已导出湖南 2017 年专业分数数据到 /Users/hubertcheung/Downloads/gaokao/cleaned/hunan_2017.xlsx\n",
      "已导出湖南 2018 年专业分数数据到 /Users/hubertcheung/Downloads/gaokao/cleaned/hunan_2018.xlsx\n",
      "已导出湖南 2019 年专业分数数据到 /Users/hubertcheung/Downloads/gaokao/cleaned/hunan_2019.xlsx\n",
      "已导出湖南 2020 年专业分数数据到 /Users/hubertcheung/Downloads/gaokao/cleaned/hunan_2020.xlsx\n",
      "已导出湖南 2021 年专业分数数据到 /Users/hubertcheung/Downloads/gaokao/cleaned/hunan_2021.xlsx\n",
      "已导出湖南 2022 年专业分数数据到 /Users/hubertcheung/Downloads/gaokao/cleaned/hunan_2022.xlsx\n",
      "湖南所有年份数据处理完成\n"
     ]
    }
   ],
   "source": [
    "### 湖南\n",
    "\n",
    "# 湖南数据处理\n",
    "hunan = path1 + \"/22湖南\"\n",
    "\n",
    "# 遍历2016到2022年的文件\n",
    "for year in range(2016, 2023):\n",
    "    input_file = os.path.join(hunan, f\"H湖南{year}.xlsx\")\n",
    "    \n",
    "    if os.path.exists(input_file):\n",
    "        # 读取Excel文件\n",
    "        xl = pd.ExcelFile(input_file)\n",
    "        \n",
    "        if \"专业分数\" in xl.sheet_names:\n",
    "            # 读取\"专业分数\"工作表\n",
    "            df = xl.parse(\"专业分数\")\n",
    "            \n",
    "            # 设置输出文件名\n",
    "            output_file = os.path.join(output_dir, f\"hunan_{year}.xlsx\")\n",
    "            \n",
    "            # 将数据框保存为xlsx文件\n",
    "            df.to_excel(output_file, index=False)\n",
    "            print(f\"已导出湖南 {year} 年专业分数数据到 {output_file}\")\n",
    "        else:\n",
    "            # 如果没有\"专业分数\"工作表，则读取默认工作表\n",
    "            df = xl.parse()\n",
    "            \n",
    "            # 设置输出文件名\n",
    "            output_file = os.path.join(output_dir, f\"hunan_{year}.xlsx\")\n",
    "            \n",
    "            # 将数据框保存为xlsx文件\n",
    "            df.to_excel(output_file, index=False)\n",
    "            print(f\"已导出湖南 {year} 年专业分数数据到 {output_file}\")\n",
    "    else:\n",
    "        print(f\"未找到湖南 {year} 年的文件\")\n",
    "\n",
    "print(\"湖南所有年份数据处理完成\")"
   ]
  },
  {
   "cell_type": "markdown",
   "metadata": {},
   "source": [
    "### 甘肃"
   ]
  },
  {
   "cell_type": "code",
   "execution_count": 6,
   "metadata": {},
   "outputs": [
    {
     "name": "stdout",
     "output_type": "stream",
     "text": [
      "已导出甘肃 2016 年专业分数数据到 /Users/hubertcheung/Downloads/gaokao/cleaned/gansu_2016.xlsx\n",
      "已导出甘肃 2017 年专业分数数据到 /Users/hubertcheung/Downloads/gaokao/cleaned/gansu_2017.xlsx\n",
      "已导出甘肃 2018 年专业分数数据到 /Users/hubertcheung/Downloads/gaokao/cleaned/gansu_2018.xlsx\n",
      "已导出甘肃 2019 年专业分数数据到 /Users/hubertcheung/Downloads/gaokao/cleaned/gansu_2019.xlsx\n",
      "已导出甘肃 2020 年专业分数数据到 /Users/hubertcheung/Downloads/gaokao/cleaned/gansu_2020.xlsx\n",
      "已导出甘肃 2021 年专业分数数据到 /Users/hubertcheung/Downloads/gaokao/cleaned/gansu_2021.xlsx\n",
      "已导出甘肃 2022 年专业分数数据到 /Users/hubertcheung/Downloads/gaokao/cleaned/gansu_2022.xlsx\n",
      "甘肃所有年份数据处理完成\n"
     ]
    }
   ],
   "source": [
    "### 甘肃\n",
    "\n",
    "# 甘肃数据处理\n",
    "gansu = path1 + \"/22甘肃\"\n",
    "\n",
    "# 遍历2016到2022年的文件\n",
    "for year in range(2016, 2023):\n",
    "    input_file = os.path.join(gansu, f\"G甘肃{year}.xlsx\")\n",
    "    \n",
    "    if os.path.exists(input_file):\n",
    "        # 读取Excel文件\n",
    "        xl = pd.ExcelFile(input_file)\n",
    "        \n",
    "        if \"专业分数\" in xl.sheet_names:\n",
    "            # 读取\"专业分数\"工作表\n",
    "            df = xl.parse(\"专业分数\")\n",
    "            \n",
    "            # 设置输出文件名\n",
    "            output_file = os.path.join(output_dir, f\"gansu_{year}.xlsx\")\n",
    "            \n",
    "            # 将数据框保存为xlsx文件\n",
    "            df.to_excel(output_file, index=False)\n",
    "            print(f\"已导出甘肃 {year} 年专业分数数据到 {output_file}\")\n",
    "        else:\n",
    "            # 如果没有\"专业分数\"工作表，则读取默认工作表\n",
    "            df = xl.parse()\n",
    "            \n",
    "            # 设置输出文件名\n",
    "            output_file = os.path.join(output_dir, f\"gansu_{year}.xlsx\")\n",
    "            \n",
    "            # 将数据框保存为xlsx文件\n",
    "            df.to_excel(output_file, index=False)\n",
    "            print(f\"已导出甘肃 {year} 年专业分数数据到 {output_file}\")\n",
    "    else:\n",
    "        print(f\"未找到甘肃 {year} 年的文件\")\n",
    "\n",
    "print(\"甘肃所有年份数据处理完成\")"
   ]
  },
  {
   "cell_type": "markdown",
   "metadata": {},
   "source": [
    "### 福建"
   ]
  },
  {
   "cell_type": "code",
   "execution_count": 8,
   "metadata": {},
   "outputs": [
    {
     "name": "stdout",
     "output_type": "stream",
     "text": [
      "已导出福建 2016 年专业分数数据到 /Users/hubertcheung/Downloads/gaokao/cleaned/fujian_2016.xlsx\n",
      "已导出福建 2017 年专业分数数据到 /Users/hubertcheung/Downloads/gaokao/cleaned/fujian_2017.xlsx\n",
      "已导出福建 2018 年专业分数数据到 /Users/hubertcheung/Downloads/gaokao/cleaned/fujian_2018.xlsx\n",
      "已导出福建 2019 年专业分数数据到 /Users/hubertcheung/Downloads/gaokao/cleaned/fujian_2019.xlsx\n",
      "已导出福建 2020 年专业分数数据到 /Users/hubertcheung/Downloads/gaokao/cleaned/fujian_2020.xlsx\n",
      "已导出福建 2021 年专业分数数据到 /Users/hubertcheung/Downloads/gaokao/cleaned/fujian_2021.xlsx\n",
      "已导出福建 2022 年专业分数数据到 /Users/hubertcheung/Downloads/gaokao/cleaned/fujian_2022.xlsx\n",
      "福建所有年份数据处理完成\n"
     ]
    }
   ],
   "source": [
    "### 福建\n",
    "\n",
    "# 福建数据处理\n",
    "fujian = path1 + \"/22福建\"\n",
    "\n",
    "# 遍历2016到2022年的文件\n",
    "for year in range(2016, 2023):\n",
    "    input_file = os.path.join(fujian, f\"F福建{year}.xlsx\")\n",
    "    \n",
    "    if os.path.exists(input_file):\n",
    "        # 读取Excel文件\n",
    "        xl = pd.ExcelFile(input_file)\n",
    "        \n",
    "        if \"专业分数\" in xl.sheet_names:\n",
    "            # 读取\"专业分数\"工作表\n",
    "            df = xl.parse(\"专业分数\")\n",
    "            \n",
    "            # 设置输出文件名\n",
    "            output_file = os.path.join(output_dir, f\"fujian_{year}.xlsx\")\n",
    "            \n",
    "            # 将数据框保存为xlsx文件\n",
    "            df.to_excel(output_file, index=False)\n",
    "            print(f\"已导出福建 {year} 年专业分数数据到 {output_file}\")\n",
    "        else:\n",
    "            # 如果没有\"专业分数\"工作表，则读取默认工作表\n",
    "            df = xl.parse()\n",
    "            \n",
    "            # 设置输出文件名\n",
    "            output_file = os.path.join(output_dir, f\"fujian_{year}.xlsx\")\n",
    "            \n",
    "            # 将数据框保存为xlsx文件\n",
    "            df.to_excel(output_file, index=False)\n",
    "            print(f\"已导出福建 {year} 年专业分数数据到 {output_file}\")\n",
    "    else:\n",
    "        print(f\"未找到福建 {year} 年的文件\")\n",
    "\n",
    "print(\"福建所有年份数据处理完成\")\n"
   ]
  },
  {
   "cell_type": "markdown",
   "metadata": {},
   "source": [
    "### 贵州"
   ]
  },
  {
   "cell_type": "code",
   "execution_count": 9,
   "metadata": {},
   "outputs": [
    {
     "name": "stdout",
     "output_type": "stream",
     "text": [
      "已导出贵州 2016 年专业分数数据到 /Users/hubertcheung/Downloads/gaokao/cleaned/guizhou_2016.xlsx\n",
      "已导出贵州 2017 年专业分数数据到 /Users/hubertcheung/Downloads/gaokao/cleaned/guizhou_2017.xlsx\n",
      "已导出贵州 2018 年专业分数数据到 /Users/hubertcheung/Downloads/gaokao/cleaned/guizhou_2018.xlsx\n",
      "已导出贵州 2019 年专业分数数据到 /Users/hubertcheung/Downloads/gaokao/cleaned/guizhou_2019.xlsx\n",
      "已导出贵州 2020 年专业分数数据到 /Users/hubertcheung/Downloads/gaokao/cleaned/guizhou_2020.xlsx\n",
      "已导出贵州 2021 年专业分数数据到 /Users/hubertcheung/Downloads/gaokao/cleaned/guizhou_2021.xlsx\n",
      "已导出贵州 2022 年专业分数数据到 /Users/hubertcheung/Downloads/gaokao/cleaned/guizhou_2022.xlsx\n",
      "贵州所有年份数据处理完成\n"
     ]
    }
   ],
   "source": [
    "### 贵州\n",
    "\n",
    "# 贵州数据处理\n",
    "guizhou = path1 + \"/22贵州\"\n",
    "\n",
    "# 遍历2016到2022年的文件\n",
    "for year in range(2016, 2023):\n",
    "    input_file = os.path.join(guizhou, f\"G贵州{year}.xlsx\")\n",
    "    \n",
    "    if os.path.exists(input_file):\n",
    "        # 读取Excel文件\n",
    "        xl = pd.ExcelFile(input_file)\n",
    "        \n",
    "        if \"专业分数\" in xl.sheet_names:\n",
    "            # 读取\"专业分数\"工作表\n",
    "            df = xl.parse(\"专业分数\")\n",
    "            \n",
    "            # 设置输出文件名\n",
    "            output_file = os.path.join(output_dir, f\"guizhou_{year}.xlsx\")\n",
    "            \n",
    "            # 将数据框保存为xlsx文件\n",
    "            df.to_excel(output_file, index=False)\n",
    "            print(f\"已导出贵州 {year} 年专业分数数据到 {output_file}\")\n",
    "        else:\n",
    "            # 如果没有\"专业分数\"工作表，则读取默认工作表\n",
    "            df = xl.parse()\n",
    "            \n",
    "            # 设置输出文件名\n",
    "            output_file = os.path.join(output_dir, f\"guizhou_{year}.xlsx\")\n",
    "            \n",
    "            # 将数据框保存为xlsx文件\n",
    "            df.to_excel(output_file, index=False)\n",
    "            print(f\"已导出贵州 {year} 年专业分数数据到 {output_file}\")\n",
    "    else:\n",
    "        print(f\"未找到贵州 {year} 年的文件\")\n",
    "\n",
    "print(\"贵州所有年份数据处理完成\")\n"
   ]
  },
  {
   "cell_type": "markdown",
   "metadata": {},
   "source": [
    "### 辽宁"
   ]
  },
  {
   "cell_type": "code",
   "execution_count": 13,
   "metadata": {},
   "outputs": [
    {
     "name": "stdout",
     "output_type": "stream",
     "text": [
      "已导出辽宁 2016 年专业分数数据到 /Users/hubertcheung/Downloads/gaokao/cleaned\n",
      "已导出辽宁 2017 年专业分数数据到 /Users/hubertcheung/Downloads/gaokao/cleaned\n",
      "已导出辽宁 2018 年专业分数数据到 /Users/hubertcheung/Downloads/gaokao/cleaned\n",
      "已导出辽宁 2019 年专业分数数据到 /Users/hubertcheung/Downloads/gaokao/cleaned\n",
      "已导出辽宁 2020 年专业分数数据到 /Users/hubertcheung/Downloads/gaokao/cleaned\n",
      "已导出辽宁 2021 年专业分数数据到 /Users/hubertcheung/Downloads/gaokao/cleaned\n",
      "已导出辽宁 2022 年专业分数数据到 /Users/hubertcheung/Downloads/gaokao/cleaned\n"
     ]
    }
   ],
   "source": [
    "liaoning = path1 + \"/22辽宁\"\n",
    "\n",
    "\n",
    "\n",
    "input_file = os.path.join(liaoning, \"辽宁省2016-2017专业分数.xlsx\")\n",
    "xl = pd.ExcelFile(input_file)\n",
    "for year in range(2016, 2018):\n",
    "    df = xl.parse(f\"辽宁省{year}专业分数\")\n",
    "    df.to_excel(os.path.join(output_dir, f\"liaoning_{year}.xlsx\"), index=False)\n",
    "    print(f\"已导出辽宁 {year} 年专业分数数据到 {output_dir}\")\n",
    "\n",
    "input_file = os.path.join(liaoning, \"辽宁2018-2020专业分数.xlsx\")\n",
    "xl = pd.ExcelFile(input_file)\n",
    "for year in range(2018, 2021):\n",
    "    df = xl.parse(f\"{year}\")\n",
    "    df.to_excel(os.path.join(output_dir, f\"liaoning_{year}.xlsx\"), index=False)\n",
    "    print(f\"已导出辽宁 {year} 年专业分数数据到 {output_dir}\")\n",
    "\n",
    "input_file = os.path.join(liaoning, \"辽宁-2021-专业录取分数-最新.xlsx\")\n",
    "xl = pd.ExcelFile(input_file)\n",
    "df = xl.parse()\n",
    "df.to_excel(os.path.join(output_dir, f\"liaoning_2021.xlsx\"), index=False)\n",
    "print(f\"已导出辽宁 2021 年专业分数数据到 {output_dir}\")\n",
    "\n",
    "input_file = os.path.join(liaoning, \"辽宁-2022-专业分数0809.xlsx\")\n",
    "xl = pd.ExcelFile(input_file)\n",
    "df = xl.parse()\n",
    "df.to_excel(os.path.join(output_dir, f\"liaoning_2022.xlsx\"), index=False)\n",
    "print(f\"已导出辽宁 2022 年专业分数数据到 {output_dir}\")"
   ]
  },
  {
   "cell_type": "markdown",
   "metadata": {},
   "source": [
    "### 重庆"
   ]
  },
  {
   "cell_type": "code",
   "execution_count": 15,
   "metadata": {},
   "outputs": [
    {
     "name": "stdout",
     "output_type": "stream",
     "text": [
      "已导出重庆 2016 年专业分数数据到 /Users/hubertcheung/Downloads/gaokao/cleaned/chongqing_2016.xlsx\n",
      "已导出重庆 2017 年专业分数数据到 /Users/hubertcheung/Downloads/gaokao/cleaned/chongqing_2017.xlsx\n",
      "已导出重庆 2018 年专业分数数据到 /Users/hubertcheung/Downloads/gaokao/cleaned/chongqing_2018.xlsx\n",
      "已导出重庆 2019 年专业分数数据到 /Users/hubertcheung/Downloads/gaokao/cleaned/chongqing_2019.xlsx\n",
      "已导出重庆 2020 年专业分数数据到 /Users/hubertcheung/Downloads/gaokao/cleaned/chongqing_2020.xlsx\n",
      "已导出重庆 2021 年专业分数数据到 /Users/hubertcheung/Downloads/gaokao/cleaned/chongqing_2021.xlsx\n",
      "已导出重庆 2022 年专业分数数据到 /Users/hubertcheung/Downloads/gaokao/cleaned/chongqing_2022.xlsx\n",
      "重庆所有年份数据处理完成\n"
     ]
    }
   ],
   "source": [
    "### 重庆\n",
    "\n",
    "# 重庆数据处理\n",
    "chongqing = path1 + \"/22重庆\"\n",
    "\n",
    "# 遍历2016到2022年的文件\n",
    "for year in range(2016, 2023):\n",
    "    input_file = os.path.join(chongqing, f\"重庆-{year}专业分数.xlsx\")\n",
    "    \n",
    "    if os.path.exists(input_file):\n",
    "        # 读取Excel文件\n",
    "        xl = pd.ExcelFile(input_file)\n",
    "        \n",
    "        if \"专业分数\" in xl.sheet_names:\n",
    "            # 读取\"专业分数\"工作表\n",
    "            df = xl.parse(\"专业分数\")\n",
    "            \n",
    "            # 设置输出文件名\n",
    "            output_file = os.path.join(output_dir, f\"chongqing_{year}.xlsx\")\n",
    "            \n",
    "            # 将数据框保存为xlsx文件\n",
    "            df.to_excel(output_file, index=False)\n",
    "            print(f\"已导出重庆 {year} 年专业分数数据到 {output_file}\")\n",
    "        else:\n",
    "            # 如果没有\"专业分数\"工作表，则读取默认工作表\n",
    "            df = xl.parse()\n",
    "            \n",
    "            # 设置输出文件名\n",
    "            output_file = os.path.join(output_dir, f\"chongqing_{year}.xlsx\")\n",
    "            \n",
    "            # 将数据框保存为xlsx文件\n",
    "            df.to_excel(output_file, index=False)\n",
    "            print(f\"已导出重庆 {year} 年专业分数数据到 {output_file}\")\n",
    "    else:\n",
    "        print(f\"未找到重庆 {year} 年的文件\")\n",
    "\n",
    "print(\"重庆所有年份数据处理完成\")\n"
   ]
  },
  {
   "cell_type": "markdown",
   "metadata": {},
   "source": [
    "### 陕西"
   ]
  },
  {
   "cell_type": "code",
   "execution_count": 16,
   "metadata": {},
   "outputs": [
    {
     "name": "stdout",
     "output_type": "stream",
     "text": [
      "已导出陕西 2016 年专业分数数据到 /Users/hubertcheung/Downloads/gaokao/cleaned/shaanxi_2016.xlsx\n",
      "已导出陕西 2017 年专业分数数据到 /Users/hubertcheung/Downloads/gaokao/cleaned/shaanxi_2017.xlsx\n",
      "已导出陕西 2018 年专业分数数据到 /Users/hubertcheung/Downloads/gaokao/cleaned/shaanxi_2018.xlsx\n",
      "已导出陕西 2019 年专业分数数据到 /Users/hubertcheung/Downloads/gaokao/cleaned/shaanxi_2019.xlsx\n",
      "已导出陕西 2020 年专业分数数据到 /Users/hubertcheung/Downloads/gaokao/cleaned/shaanxi_2020.xlsx\n",
      "已导出陕西 2021 年专业分数数据到 /Users/hubertcheung/Downloads/gaokao/cleaned/shaanxi_2021.xlsx\n",
      "已导出陕西 2022 年专业分数数据到 /Users/hubertcheung/Downloads/gaokao/cleaned/shaanxi_2022.xlsx\n",
      "陕西所有年份数据处理完成\n"
     ]
    }
   ],
   "source": [
    "### 陕西\n",
    "\n",
    "# 陕西数据处理\n",
    "shaanxi = path1 + \"/22陕西\"\n",
    "\n",
    "# 遍历2016到2022年的文件\n",
    "for year in range(2016, 2023):\n",
    "    input_file = os.path.join(shaanxi, f\"S陕西{year}.xlsx\")\n",
    "    \n",
    "    if os.path.exists(input_file):\n",
    "        # 读取Excel文件\n",
    "        xl = pd.ExcelFile(input_file)\n",
    "        \n",
    "        if \"专业分数\" in xl.sheet_names:\n",
    "            # 读取\"专业分数\"工作表\n",
    "            df = xl.parse(\"专业分数\")\n",
    "            \n",
    "            # 设置输出文件名\n",
    "            output_file = os.path.join(output_dir, f\"shaanxi_{year}.xlsx\")\n",
    "            \n",
    "            # 将数据框保存为xlsx文件\n",
    "            df.to_excel(output_file, index=False)\n",
    "            print(f\"已导出陕西 {year} 年专业分数数据到 {output_file}\")\n",
    "        else:\n",
    "            # 如果没有\"专业分数\"工作表，则读取默认工作表\n",
    "            df = xl.parse()\n",
    "            \n",
    "            # 设置输出文件名\n",
    "            output_file = os.path.join(output_dir, f\"shaanxi_{year}.xlsx\")\n",
    "            \n",
    "            # 将数据框保存为xlsx文件\n",
    "            df.to_excel(output_file, index=False)\n",
    "            print(f\"已导出陕西 {year} 年专业分数数据到 {output_file}\")\n",
    "    else:\n",
    "        print(f\"未找到陕西 {year} 年的文件\")\n",
    "\n",
    "print(\"陕西所有年份数据处理完成\")"
   ]
  },
  {
   "cell_type": "markdown",
   "metadata": {},
   "source": [
    "### 青海"
   ]
  },
  {
   "cell_type": "code",
   "execution_count": 17,
   "metadata": {},
   "outputs": [
    {
     "name": "stdout",
     "output_type": "stream",
     "text": [
      "已导出青海 2016 年专业分数数据到 /Users/hubertcheung/Downloads/gaokao/cleaned/qinghai_2016.xlsx\n",
      "已导出青海 2017 年专业分数数据到 /Users/hubertcheung/Downloads/gaokao/cleaned/qinghai_2017.xlsx\n",
      "已导出青海 2018 年专业分数数据到 /Users/hubertcheung/Downloads/gaokao/cleaned/qinghai_2018.xlsx\n",
      "已导出青海 2019 年专业分数数据到 /Users/hubertcheung/Downloads/gaokao/cleaned/qinghai_2019.xlsx\n",
      "已导出青海 2020 年专业分数数据到 /Users/hubertcheung/Downloads/gaokao/cleaned/qinghai_2020.xlsx\n",
      "已导出青海 2021 年专业分数数据到 /Users/hubertcheung/Downloads/gaokao/cleaned/qinghai_2021.xlsx\n",
      "已导出青海 2022 年专业分数数据到 /Users/hubertcheung/Downloads/gaokao/cleaned/qinghai_2022.xlsx\n",
      "青海所有年份数据处理完成\n"
     ]
    }
   ],
   "source": [
    "### 青海\n",
    "\n",
    "# 青海数据处理\n",
    "qinghai = path1 + \"/22青海\"\n",
    "\n",
    "# 遍历2016到2022年的文件\n",
    "for year in range(2016, 2023):\n",
    "    input_file = os.path.join(qinghai, f\"青海-{year}-专业分数.xlsx\")\n",
    "    \n",
    "    if os.path.exists(input_file):\n",
    "        # 读取Excel文件\n",
    "        xl = pd.ExcelFile(input_file)\n",
    "        \n",
    "        if \"专业分数\" in xl.sheet_names:\n",
    "            # 读取\"专业分数\"工作表\n",
    "            df = xl.parse(\"专业分数\")\n",
    "            \n",
    "            # 设置输出文件名\n",
    "            output_file = os.path.join(output_dir, f\"qinghai_{year}.xlsx\")\n",
    "            \n",
    "            # 将数据框保存为xlsx文件\n",
    "            df.to_excel(output_file, index=False)\n",
    "            print(f\"已导出青海 {year} 年专业分数数据到 {output_file}\")\n",
    "        else:\n",
    "            # 如果没有\"专业分数\"工作表，则读取默认工作表\n",
    "            df = xl.parse()\n",
    "            \n",
    "            # 设置输出文件名\n",
    "            output_file = os.path.join(output_dir, f\"qinghai_{year}.xlsx\")\n",
    "            \n",
    "            # 将数据框保存为xlsx文件\n",
    "            df.to_excel(output_file, index=False)\n",
    "            print(f\"已导出青海 {year} 年专业分数数据到 {output_file}\")\n",
    "    else:\n",
    "        print(f\"未找到青海 {year} 年的文件\")\n",
    "\n",
    "print(\"青海所有年份数据处理完成\")"
   ]
  },
  {
   "cell_type": "markdown",
   "metadata": {},
   "source": [
    "### 黑龙江"
   ]
  },
  {
   "cell_type": "code",
   "execution_count": 18,
   "metadata": {},
   "outputs": [
    {
     "name": "stdout",
     "output_type": "stream",
     "text": [
      "已导出黑龙江 2016 年专业分数数据到 /Users/hubertcheung/Downloads/gaokao/cleaned/heilongjiang_2016.xlsx\n",
      "已导出黑龙江 2017 年专业分数数据到 /Users/hubertcheung/Downloads/gaokao/cleaned/heilongjiang_2017.xlsx\n",
      "已导出黑龙江 2018 年专业分数数据到 /Users/hubertcheung/Downloads/gaokao/cleaned/heilongjiang_2018.xlsx\n",
      "已导出黑龙江 2019 年专业分数数据到 /Users/hubertcheung/Downloads/gaokao/cleaned/heilongjiang_2019.xlsx\n",
      "已导出黑龙江 2020 年专业分数数据到 /Users/hubertcheung/Downloads/gaokao/cleaned/heilongjiang_2020.xlsx\n",
      "已导出黑龙江 2021 年专业分数数据到 /Users/hubertcheung/Downloads/gaokao/cleaned/heilongjiang_2021.xlsx\n",
      "已导出黑龙江 2022 年专业分数数据到 /Users/hubertcheung/Downloads/gaokao/cleaned/heilongjiang_2022.xlsx\n",
      "黑龙江所有年份数据处理完成\n"
     ]
    }
   ],
   "source": [
    "### 黑龙江\n",
    "\n",
    "# 黑龙江数据处理\n",
    "heilongjiang = path1 + \"/22黑龙江\"\n",
    "\n",
    "# 遍历2016到2022年的文件\n",
    "for year in range(2016, 2023):\n",
    "    input_file = os.path.join(heilongjiang, f\"黑龙江{year}.xlsx\")\n",
    "    \n",
    "    if os.path.exists(input_file):\n",
    "        # 读取Excel文件\n",
    "        xl = pd.ExcelFile(input_file)\n",
    "        \n",
    "        if \"专业分数\" in xl.sheet_names:\n",
    "            # 读取\"专业分数\"工作表\n",
    "            df = xl.parse(\"专业分数\")\n",
    "            \n",
    "            # 设置输出文件名\n",
    "            output_file = os.path.join(output_dir, f\"heilongjiang_{year}.xlsx\")\n",
    "            \n",
    "            # 将数据框保存为xlsx文件\n",
    "            df.to_excel(output_file, index=False)\n",
    "            print(f\"已导出黑龙江 {year} 年专业分数数据到 {output_file}\")\n",
    "        else:\n",
    "            # 如果没有\"专业分数\"工作表，则读取默认工作表\n",
    "            df = xl.parse()\n",
    "            \n",
    "            # 设置输出文件名\n",
    "            output_file = os.path.join(output_dir, f\"heilongjiang_{year}.xlsx\")\n",
    "            \n",
    "            # 将数据框保存为xlsx文件\n",
    "            df.to_excel(output_file, index=False)\n",
    "            print(f\"已导出黑龙江 {year} 年专业分数数据到 {output_file}\")\n",
    "    else:\n",
    "        print(f\"未找到黑龙江 {year} 年的文件\")\n",
    "\n",
    "print(\"黑龙江所有年份数据处理完成\")"
   ]
  }
 ],
 "metadata": {
  "kernelspec": {
   "display_name": "base",
   "language": "python",
   "name": "python3"
  },
  "language_info": {
   "codemirror_mode": {
    "name": "ipython",
    "version": 3
   },
   "file_extension": ".py",
   "mimetype": "text/x-python",
   "name": "python",
   "nbconvert_exporter": "python",
   "pygments_lexer": "ipython3",
   "version": "3.10.9"
  }
 },
 "nbformat": 4,
 "nbformat_minor": 2
}
